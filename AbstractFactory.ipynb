{
 "cells": [
  {
   "cell_type": "markdown",
   "id": "2894e723",
   "metadata": {},
   "source": [
    "## Basic Connection"
   ]
  },
  {
   "cell_type": "code",
   "execution_count": null,
   "id": "063f4513",
   "metadata": {},
   "outputs": [],
   "source": [
    "import anki_vector\n",
    "from anki_vector.util import degrees, Angle, Pose\n",
    "from abc import ABC, abstractmethod"
   ]
  },
  {
   "cell_type": "code",
   "execution_count": null,
   "id": "dec5dce2",
   "metadata": {},
   "outputs": [],
   "source": [
    "robot = anki_vector.Robot()\n",
    "robot.connect()"
   ]
  },
  {
   "cell_type": "code",
   "execution_count": null,
   "id": "8ccef618",
   "metadata": {},
   "outputs": [],
   "source": [
    "##### Get Battery Status\n",
    "\"\"\"\n",
    "Check the current state of the robot and cube batteries.\n",
    "Vector is considered fully-charged above 4.1 volts. At 3.6V, the robot is approaching low charge.\n",
    "Battery_level values are as follows:\n",
    "Low = 1: 3.6V or less. If on charger, 4V or less.\n",
    "Nominal = 2\n",
    "Full = 3: only be achieved when Vector is on the charger.\n",
    "\"\"\""
   ]
  },
  {
   "cell_type": "code",
   "execution_count": null,
   "id": "39e09a39",
   "metadata": {},
   "outputs": [],
   "source": [
    "battery_state = robot.get_battery_state()\n",
    "print(\" \")\n",
    "print(\" \")\n",
    "print(\"Battery voltage  | Battery Level | Charging | Platform |Charging Time |\")\n",
    "print(\"{0}\".format(battery_state.battery_volts), end = '      ')\n",
    "print(\"{0}\".format(battery_state.battery_level), end = '             ')\n",
    "print(\"{0}\".format(battery_state.is_charging), end = '      ')\n",
    "print(\"{0}\".format(battery_state.is_on_charger_platform), end = '     ')\n",
    "print(\"{0}\".format(battery_state.suggested_charger_sec))\n",
    "print(\" \")"
   ]
  },
  {
   "cell_type": "code",
   "execution_count": null,
   "id": "debd2fa4",
   "metadata": {},
   "outputs": [],
   "source": [
    "##### Abstract Product class -> Motion"
   ]
  },
  {
   "cell_type": "code",
   "execution_count": null,
   "id": "04181b4c",
   "metadata": {},
   "outputs": [],
   "source": [
    "class AbstractMotion(ABC):\n",
    "    @abstractmethod\n",
    "    def motion_function(self):\n",
    "        pass"
   ]
  },
  {
   "cell_type": "code",
   "execution_count": null,
   "id": "0b643dcb",
   "metadata": {},
   "outputs": [],
   "source": [
    "##### Concrete Product class 'DriveOffCharger' "
   ]
  },
  {
   "cell_type": "code",
   "execution_count": null,
   "id": "addd94bc",
   "metadata": {},
   "outputs": [],
   "source": [
    "class DriveOffCharger(AbstractMotion):\n",
    "    def motion_function(self):\n",
    "        print(\"Driven Off of the Charger\")\n",
    "        return robot.behavior.drive_off_charger()\n",
    "        "
   ]
  },
  {
   "cell_type": "code",
   "execution_count": null,
   "id": "1ae3df52",
   "metadata": {},
   "outputs": [],
   "source": [
    "##### Concrete Product class 'DriveOnCharger' "
   ]
  },
  {
   "cell_type": "code",
   "execution_count": null,
   "id": "f350c802",
   "metadata": {},
   "outputs": [],
   "source": [
    "class DriveOnCharger(AbstractMotion):\n",
    "    def motion_function(self):\n",
    "        print(\"Driven On to the Charger\")(AbstractMotion)\n",
    "        return robot.behavior.drive_on_charger()\n",
    "        "
   ]
  },
  {
   "cell_type": "code",
   "execution_count": null,
   "id": "c8715dd7",
   "metadata": {},
   "outputs": [],
   "source": [
    "##### Abstract Product class -> Expression"
   ]
  },
  {
   "cell_type": "code",
   "execution_count": null,
   "id": "66693843",
   "metadata": {},
   "outputs": [],
   "source": [
    "class AbstractExpression(ABC):\n",
    "    @abstractmethod\n",
    "    def expression_function(self):\n",
    "        pass"
   ]
  },
  {
   "cell_type": "code",
   "execution_count": null,
   "id": "9eafc18b",
   "metadata": {},
   "outputs": [],
   "source": [
    "##### Concrete Product class 'Greet' "
   ]
  },
  {
   "cell_type": "code",
   "execution_count": null,
   "id": "fa2901d9",
   "metadata": {},
   "outputs": [],
   "source": [
    "class Greet(AbstractExpression):\n",
    "    def expression_function(self):\n",
    "        print(\"Greeted\")\n",
    "        return robot.anim.play_animation_trigger(\"GreetAfterLongTime\")\n",
    "        "
   ]
  },
  {
   "cell_type": "code",
   "execution_count": null,
   "id": "8ec21ff8",
   "metadata": {},
   "outputs": [],
   "source": [
    "##### Concrete Product class 'LookAround' "
   ]
  },
  {
   "cell_type": "code",
   "execution_count": null,
   "id": "11e09cd6",
   "metadata": {},
   "outputs": [],
   "source": [
    "class LookAround(AbstractExpression):\n",
    "    def expression_function(self):\n",
    "        print(\"Looked Around\")\n",
    "        return robot.behavior.look_around_in_place()\n",
    "        "
   ]
  },
  {
   "cell_type": "code",
   "execution_count": null,
   "id": "3585d99f",
   "metadata": {},
   "outputs": [],
   "source": [
    "##### Abstract Factory class -> GreetingFactory"
   ]
  },
  {
   "cell_type": "code",
   "execution_count": null,
   "id": "e1a65e84",
   "metadata": {},
   "outputs": [],
   "source": [
    "class GreetingFactory(ABC):\n",
    "    @abstractmethod\n",
    "    def create_product_motion(self) -> AbstractMotion:\n",
    "        pass\n",
    "    \n",
    "    @abstractmethod\n",
    "    def create_product_expression(self) -> AbstractExpression:\n",
    "        pass\n",
    "    "
   ]
  },
  {
   "cell_type": "code",
   "execution_count": null,
   "id": "489d9aab",
   "metadata": {},
   "outputs": [],
   "source": [
    "##### Concrete Factory class -> Hello Factory"
   ]
  },
  {
   "cell_type": "code",
   "execution_count": null,
   "id": "7e72222d",
   "metadata": {},
   "outputs": [],
   "source": [
    "class HelloFactory(GreetingFactory):\n",
    "    def create_product_motion(self) -> AbstractMotion:\n",
    "        return DriveOffCharger()\n",
    "    def create_product_expression(self) -> AbstractExpression:\n",
    "        return LookAround()"
   ]
  },
  {
   "cell_type": "code",
   "execution_count": null,
   "id": "138f07d3",
   "metadata": {},
   "outputs": [],
   "source": [
    "##### Concrete Factory class -> GoodBye Factory"
   ]
  },
  {
   "cell_type": "code",
   "execution_count": null,
   "id": "2ba34dfe",
   "metadata": {},
   "outputs": [],
   "source": [
    "class GoodByeFactory(GreetingFactory):\n",
    "    def create_product_motion(self) -> AbstractMotion:\n",
    "        return DriveOnCharger()\n",
    "    def create_product_expression(self) -> AbstractExpression:\n",
    "        return Greet()"
   ]
  },
  {
   "cell_type": "code",
   "execution_count": null,
   "id": "19019927",
   "metadata": {},
   "outputs": [],
   "source": [
    "##### Client Implementation"
   ]
  },
  {
   "cell_type": "code",
   "execution_count": null,
   "id": "72b50e37",
   "metadata": {},
   "outputs": [],
   "source": [
    "def client_implementation(factory: GreetingFactory) -> None:\n",
    "    product_motion = factory.create_product_motion()\n",
    "    product_expression = factory.create_product_expression()"
   ]
  },
  {
   "cell_type": "code",
   "execution_count": null,
   "id": "d806f765",
   "metadata": {},
   "outputs": [],
   "source": [
    "client_implementation(HelloFactory())"
   ]
  },
  {
   "cell_type": "code",
   "execution_count": null,
   "id": "9b5968c3",
   "metadata": {},
   "outputs": [],
   "source": [
    "client_implementation(GoodByeFactory())"
   ]
  },
  {
   "cell_type": "code",
   "execution_count": null,
   "id": "c1cf0566",
   "metadata": {},
   "outputs": [],
   "source": [
    "# robot.disconnect()"
   ]
  },
  {
   "cell_type": "code",
   "execution_count": null,
   "id": "3b65fc4f",
   "metadata": {},
   "outputs": [],
   "source": []
  }
 ],
 "metadata": {
  "kernelspec": {
   "display_name": "Python 3 (ipykernel)",
   "language": "python",
   "name": "python3"
  },
  "language_info": {
   "codemirror_mode": {
    "name": "ipython",
    "version": 3
   },
   "file_extension": ".py",
   "mimetype": "text/x-python",
   "name": "python",
   "nbconvert_exporter": "python",
   "pygments_lexer": "ipython3",
   "version": "3.8.13"
  }
 },
 "nbformat": 4,
 "nbformat_minor": 5
}
