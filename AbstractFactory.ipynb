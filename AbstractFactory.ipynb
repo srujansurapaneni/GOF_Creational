{
 "cells": [
  {
   "cell_type": "markdown",
   "id": "2894e723",
   "metadata": {},
   "source": [
    "## Basic Connection"
   ]
  },
  {
   "cell_type": "markdown",
   "id": "92fbad3a",
   "metadata": {},
   "source": [
    "##### Get Battery Status\n",
    "\"\"\"\n",
    "Check the current state of the robot and cube batteries.\n",
    "Vector is considered fully-charged above 4.1 volts. At 3.6V, the robot is approaching low charge.\n",
    "Battery_level values are as follows:\n",
    "Low = 1: 3.6V or less. If on charger, 4V or less.\n",
    "Nominal = 2\n",
    "Full = 3: only be achieved when Vector is on the charger.\n",
    "\"\"\""
   ]
  },
  {
   "cell_type": "code",
   "execution_count": null,
   "id": "7cdece90",
   "metadata": {},
   "outputs": [],
   "source": [
    "# battery_state = robot.get_battery_state()\n",
    "# print(\" \")\n",
    "# print(\" \")\n",
    "# print(\"Battery voltage  | Battery Level | Charging | Platform |Charging Time |\")\n",
    "# print(\"{0}\".format(battery_state.battery_volts), end = '      ')\n",
    "# print(\"{0}\".format(battery_state.battery_level), end = '             ')\n",
    "# print(\"{0}\".format(battery_state.is_charging), end = '      ')\n",
    "# print(\"{0}\".format(battery_state.is_on_charger_platform), end = '     ')\n",
    "# print(\"{0}\".format(battery_state.suggested_charger_sec))\n",
    "# print(\" \")"
   ]
  },
  {
   "cell_type": "code",
   "execution_count": null,
   "id": "c1cf0566",
   "metadata": {},
   "outputs": [],
   "source": [
    "# robot.disconnect()"
   ]
  },
  {
   "cell_type": "code",
   "execution_count": null,
   "id": "78374564",
   "metadata": {},
   "outputs": [],
   "source": [
    "####################################################################################################################"
   ]
  },
  {
   "cell_type": "code",
   "execution_count": null,
   "id": "b77ddb8f",
   "metadata": {},
   "outputs": [],
   "source": [
    "import anki_vector\n",
    "from __future__ import annotations\n",
    "from anki_vector.util import degrees, Angle, Pose\n",
    "from abc import ABC, abstractmethod\n"
   ]
  },
  {
   "cell_type": "markdown",
   "id": "7ae117a8",
   "metadata": {},
   "source": [
    "#####   The Abstract Factory interface declares a set of methods that return different abstract products. These products are called a family and related by a high-level theme or concept. Products of one family are usually able to collaborate among themselves. A family of products may have several variants, but the products of one variant are incompatible with products of another."
   ]
  },
  {
   "cell_type": "code",
   "execution_count": null,
   "id": "3669c4de",
   "metadata": {},
   "outputs": [],
   "source": [
    "class GreetFactory(ABC):\n",
    "    @abstractmethod\n",
    "    def create_motion(self) -> AbstractMotion:\n",
    "        pass\n",
    "\n",
    "    @abstractmethod\n",
    "    def create_expression(self) -> AbstractExpression:\n",
    "        pass"
   ]
  },
  {
   "cell_type": "markdown",
   "id": "b0c8b8f9",
   "metadata": {},
   "source": [
    "##### Concrete Factories produce a family of products that belong to a single variant. The factory guarantees that resulting products are compatible. Note that signatures of the Concrete Factory's methods return an abstract product, while inside the method a concrete product is instantiated."
   ]
  },
  {
   "cell_type": "code",
   "execution_count": null,
   "id": "a31f300d",
   "metadata": {},
   "outputs": [],
   "source": [
    "class ConcreteHelloFactory(GreetFactory):\n",
    "    def create_motion(self) -> AbstractMotion:\n",
    "        return DriveOffCharger()\n",
    "\n",
    "    def create_expression(self) -> AbstractExpression:\n",
    "        return LookAround()"
   ]
  },
  {
   "cell_type": "markdown",
   "id": "2426b647",
   "metadata": {},
   "source": [
    "##### Each Concrete Factory has a corresponding product variant."
   ]
  },
  {
   "cell_type": "code",
   "execution_count": null,
   "id": "993102b8",
   "metadata": {},
   "outputs": [],
   "source": [
    "class ConcreteGoodByeFactory(GreetFactory):\n",
    "    def create_motion(self) -> AbstractMotion:\n",
    "        return DriveOnCharger()\n",
    "\n",
    "    def create_expression(self) -> AbstractExpression:\n",
    "        return Greet()"
   ]
  },
  {
   "cell_type": "markdown",
   "id": "e5eacec6",
   "metadata": {},
   "source": [
    "#####  Each distinct product of a product family should have a base interface. All variants of the product must implement this interface."
   ]
  },
  {
   "cell_type": "code",
   "execution_count": null,
   "id": "0a118df6",
   "metadata": {},
   "outputs": [],
   "source": [
    "class AbstractMotion(ABC):\n",
    "    @abstractmethod\n",
    "    def motion(self) -> str:\n",
    "        pass"
   ]
  },
  {
   "cell_type": "markdown",
   "id": "2109aebf",
   "metadata": {},
   "source": [
    "##### Concrete Products are created by corresponding Concrete Factories."
   ]
  },
  {
   "cell_type": "code",
   "execution_count": null,
   "id": "171b0892",
   "metadata": {},
   "outputs": [],
   "source": [
    "class DriveOnCharger(AbstractMotion):\n",
    "    def motion(self) -> str:\n",
    "        robot = anki_vector.Robot()\n",
    "        robot.connect()\n",
    "        print(\"Started Driving onto the Charger\")\n",
    "        robot.behavior.drive_on_charger()\n",
    "        return \"Done Driving onto the Charger\""
   ]
  },
  {
   "cell_type": "code",
   "execution_count": null,
   "id": "1120a196",
   "metadata": {},
   "outputs": [],
   "source": [
    "class DriveOffCharger(AbstractMotion):\n",
    "    def motion(self) -> str:\n",
    "        robot = anki_vector.Robot()\n",
    "        robot.connect()\n",
    "        print(\"Started Driving off of the Charger\")\n",
    "        robot.behavior.drive_off_charger()\n",
    "        return \"Done Driving off of the Charger\""
   ]
  },
  {
   "cell_type": "markdown",
   "id": "31f69a5f",
   "metadata": {},
   "source": [
    "##### Here's the the base interface of another product. All products can interact with each other, but proper interaction is possible only between products of the same concrete variant."
   ]
  },
  {
   "cell_type": "code",
   "execution_count": null,
   "id": "7f3a29b5",
   "metadata": {},
   "outputs": [],
   "source": [
    "class AbstractExpression(ABC):\n",
    "    @abstractmethod\n",
    "    def expression(self) -> None:\n",
    "        pass"
   ]
  },
  {
   "cell_type": "markdown",
   "id": "190f2641",
   "metadata": {},
   "source": [
    "##### Concrete Products are created by corresponding Concrete Factories."
   ]
  },
  {
   "cell_type": "code",
   "execution_count": null,
   "id": "b622caf5",
   "metadata": {},
   "outputs": [],
   "source": [
    "class Greet(AbstractExpression):\n",
    "    def expression(self) -> str:\n",
    "        robot = anki_vector.Robot()\n",
    "        robot.connect()\n",
    "        print(\"Started Giving a Greeting expression\")\n",
    "        robot.anim.play_animation_trigger(\"GreetAfterLongTime\")\n",
    "        return \"Done Giving a Greeting expression\"\n",
    "\n",
    "    \"\"\"\n",
    "    The variant, Product B1, is only able to work correctly with the variant,\n",
    "    Product A1. Nevertheless, it accepts any instance of AbstractProductA as an\n",
    "    argument.\n",
    "    \"\"\"\n",
    "\n",
    "#     def another_useful_function_b(self, collaborator: AbstractMotion) -> str:\n",
    "#         result = collaborator.useful_function_a()\n",
    "#         return f\"The result of the B1 collaborating with the ({result})\""
   ]
  },
  {
   "cell_type": "code",
   "execution_count": null,
   "id": "79d5043f",
   "metadata": {},
   "outputs": [],
   "source": [
    "class LookAround(AbstractExpression):\n",
    "    def expression(self) -> str:\n",
    "        robot = anki_vector.Robot()\n",
    "        robot.connect()\n",
    "        print(\"Started Giving a look around expression\")\n",
    "        robot.behavior.look_around_in_place()\n",
    "        return \"Done Giving a look around expression\"\n",
    "\n",
    "#     def another_useful_function_b(self, collaborator: AbstractMotion):\n",
    "#         \"\"\"\n",
    "#         The variant, Product B2, is only able to work correctly with the\n",
    "#         variant, Product A2. Nevertheless, it accepts any instance of\n",
    "#         AbstractProductA as an argument.\n",
    "#         \"\"\"\n",
    "#         result = collaborator.useful_function_a()\n",
    "#         return f\"The result of the B2 collaborating with the ({result})\""
   ]
  },
  {
   "cell_type": "code",
   "execution_count": null,
   "id": "4c6dd7b4",
   "metadata": {},
   "outputs": [],
   "source": [
    "def client_code(factory: GreetFactory) -> None:\n",
    "    \"\"\"\n",
    "    The client code works with factories and products only through abstract\n",
    "    types: AbstractFactory and AbstractProduct. This lets you pass any factory\n",
    "    or product subclass to the client code without breaking it.\n",
    "    \"\"\"\n",
    "    motion_product = factory.create_motion()\n",
    "    expression_product = factory.create_expression()\n",
    " \n",
    "    print(f\"{motion_product.motion()}\")\n",
    "    print(f\"{expression_product.expression()}\")\n",
    "#     print(f\"{product_b.another_useful_function_b(product_a)}\", end=\"\")"
   ]
  },
  {
   "cell_type": "code",
   "execution_count": null,
   "id": "c398736c",
   "metadata": {},
   "outputs": [],
   "source": [
    "if __name__ == \"__main__\":\n",
    "    \"\"\"\n",
    "    The client code can work with any concrete factory class.\n",
    "    \"\"\"\n",
    "    print(\"Client: Testing client code with the first factory type:\")\n",
    "#     client_code(ConcreteHelloFactory())\n",
    "\n",
    "    print(\"\\n\")\n",
    "\n",
    "#     print(\"Client: Testing the same client code with the second factory type:\")\n",
    "    client_code(ConcreteGoodByeFactory())"
   ]
  },
  {
   "cell_type": "code",
   "execution_count": null,
   "id": "f96c1728",
   "metadata": {},
   "outputs": [],
   "source": [
    "# Python program showing\n",
    "# abstract base class work\n",
    "\n",
    "from abc import ABC, abstractmethod\n",
    "\n",
    "class Polygon(ABC):\n",
    "\n",
    "    @abstractmethod\n",
    "    def noofsides(self):\n",
    "        pass\n",
    "\n",
    "class Triangle(Polygon):\n",
    "\n",
    "    # overriding abstract method\n",
    "    def noofsides(self):\n",
    "        print(\"I have 3 sides\")\n",
    "\n",
    "class Pentagon(Polygon):\n",
    "\n",
    "    # overriding abstract method\n",
    "    def noofsides(self):\n",
    "        print(\"I have 5 sides\")\n",
    "    def nooftips(self):\n",
    "        print(\"I have 5 tips\")\n",
    "\n",
    "\n",
    "# Driver code\n",
    "R = Triangle()\n",
    "R.noofsides()\n",
    "\n",
    "R = Pentagon()\n",
    "# R.noofsides()\n",
    "R.nooftips()\n"
   ]
  },
  {
   "cell_type": "code",
   "execution_count": null,
   "id": "ba9c4cb4",
   "metadata": {},
   "outputs": [],
   "source": []
  }
 ],
 "metadata": {
  "kernelspec": {
   "display_name": "Python 3 (ipykernel)",
   "language": "python",
   "name": "python3"
  },
  "language_info": {
   "codemirror_mode": {
    "name": "ipython",
    "version": 3
   },
   "file_extension": ".py",
   "mimetype": "text/x-python",
   "name": "python",
   "nbconvert_exporter": "python",
   "pygments_lexer": "ipython3",
   "version": "3.8.13"
  }
 },
 "nbformat": 4,
 "nbformat_minor": 5
}
