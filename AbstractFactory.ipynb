{
 "cells": [
  {
   "cell_type": "markdown",
   "id": "2894e723",
   "metadata": {},
   "source": [
    "## Basic Connection"
   ]
  },
  {
   "cell_type": "code",
   "execution_count": null,
   "id": "063f4513",
   "metadata": {},
   "outputs": [],
   "source": [
    "import anki_vector\n",
    "from __future__ import annotations\n",
    "from anki_vector.util import degrees, Angle, Pose\n",
    "from abc import ABC, abstractmethod"
   ]
  },
  {
   "cell_type": "code",
   "execution_count": null,
   "id": "dec5dce2",
   "metadata": {},
   "outputs": [],
   "source": [
    "# robot = anki_vector.Robot()\n",
    "# robot.connect()"
   ]
  },
  {
   "cell_type": "markdown",
   "id": "92fbad3a",
   "metadata": {},
   "source": [
    "##### Get Battery Status\n",
    "\"\"\"\n",
    "Check the current state of the robot and cube batteries.\n",
    "Vector is considered fully-charged above 4.1 volts. At 3.6V, the robot is approaching low charge.\n",
    "Battery_level values are as follows:\n",
    "Low = 1: 3.6V or less. If on charger, 4V or less.\n",
    "Nominal = 2\n",
    "Full = 3: only be achieved when Vector is on the charger.\n",
    "\"\"\""
   ]
  },
  {
   "cell_type": "code",
   "execution_count": null,
   "id": "7cdece90",
   "metadata": {},
   "outputs": [],
   "source": [
    "# battery_state = robot.get_battery_state()\n",
    "# print(\" \")\n",
    "# print(\" \")\n",
    "# print(\"Battery voltage  | Battery Level | Charging | Platform |Charging Time |\")\n",
    "# print(\"{0}\".format(battery_state.battery_volts), end = '      ')\n",
    "# print(\"{0}\".format(battery_state.battery_level), end = '             ')\n",
    "# print(\"{0}\".format(battery_state.is_charging), end = '      ')\n",
    "# print(\"{0}\".format(battery_state.is_on_charger_platform), end = '     ')\n",
    "# print(\"{0}\".format(battery_state.suggested_charger_sec))\n",
    "# print(\" \")"
   ]
  },
  {
   "cell_type": "markdown",
   "id": "e00d4957",
   "metadata": {},
   "source": [
    "##### Abstract Factory class -> GreetingFactory"
   ]
  },
  {
   "cell_type": "code",
   "execution_count": null,
   "id": "00933bec",
   "metadata": {},
   "outputs": [],
   "source": [
    "class GreetingFactory(ABC):\n",
    "    @abstractmethod\n",
    "    def create_product_motion(self) -> AbstractMotion:\n",
    "        pass\n",
    "    \n",
    "    @abstractmethod\n",
    "    def create_product_expression(self) -> AbstractExpression:\n",
    "        pass\n",
    "    "
   ]
  },
  {
   "cell_type": "markdown",
   "id": "15a142ba",
   "metadata": {},
   "source": [
    "##### Concrete Factory class -> Hello Factory"
   ]
  },
  {
   "cell_type": "code",
   "execution_count": null,
   "id": "5528ffab",
   "metadata": {},
   "outputs": [],
   "source": [
    "class HelloFactory(GreetingFactory):\n",
    "    def create_product_motion(self) -> AbstractMotion:\n",
    "        print('Hello Factory motion method called')\n",
    "        return DriveOffCharger()\n",
    "    def create_product_expression(self) -> AbstractExpression:\n",
    "        print('Hello Factory expression method called')\n",
    "        return LookAround()"
   ]
  },
  {
   "cell_type": "markdown",
   "id": "4a121c07",
   "metadata": {},
   "source": [
    "##### Concrete Factory class -> GoodBye Factory"
   ]
  },
  {
   "cell_type": "code",
   "execution_count": null,
   "id": "0dbe5c34",
   "metadata": {},
   "outputs": [],
   "source": [
    "class GoodByeFactory(GreetingFactory):\n",
    "    def create_product_motion(self) -> AbstractMotion:\n",
    "        return DriveOnCharger()\n",
    "    def create_product_expression(self) -> AbstractExpression:\n",
    "        return Greet()"
   ]
  },
  {
   "cell_type": "markdown",
   "id": "43cb22e2",
   "metadata": {},
   "source": [
    "##### Abstract Product class -> Motion"
   ]
  },
  {
   "cell_type": "code",
   "execution_count": null,
   "id": "d86fd869",
   "metadata": {},
   "outputs": [],
   "source": [
    "class AbstractMotion(ABC):\n",
    "    @abstractmethod\n",
    "    def motion_function(self) -> str:\n",
    "        pass"
   ]
  },
  {
   "cell_type": "markdown",
   "id": "ba0f7a0b",
   "metadata": {},
   "source": [
    "##### Concrete Product class 'DriveOffCharger' "
   ]
  },
  {
   "cell_type": "code",
   "execution_count": null,
   "id": "8c259392",
   "metadata": {},
   "outputs": [],
   "source": [
    "class DriveOffCharger(AbstractMotion):\n",
    "    def motion_function(self) -> str:\n",
    "        print(\"Driven Off of the Charger\")\n",
    "#         robot = anki_vector.Robot()\n",
    "#         robot.connect()\n",
    "#         robot.behavior.drive_off_charger()\n",
    "        return \"Here at Drive Off\"\n",
    "        "
   ]
  },
  {
   "cell_type": "markdown",
   "id": "97925d2e",
   "metadata": {},
   "source": [
    "##### Concrete Product class 'DriveOnCharger' "
   ]
  },
  {
   "cell_type": "code",
   "execution_count": null,
   "id": "aff14448",
   "metadata": {},
   "outputs": [],
   "source": [
    "class DriveOnCharger(AbstractMotion):\n",
    "    def motion_function(self) -> str:\n",
    "        print(\"Driven On to the Charger\")\n",
    "#         robot = anki_vector.Robot()\n",
    "#         robot.connect()\n",
    "#         robot.behavior.drive_on_charger()\n",
    "        return \"Here at Drive On\"\n",
    "        "
   ]
  },
  {
   "cell_type": "markdown",
   "id": "378585cb",
   "metadata": {},
   "source": [
    "##### Abstract Product class -> Expression"
   ]
  },
  {
   "cell_type": "code",
   "execution_count": null,
   "id": "abdd9593",
   "metadata": {},
   "outputs": [],
   "source": [
    "class AbstractExpression(ABC):\n",
    "    @abstractmethod\n",
    "    def expression_function(self) -> None:\n",
    "        pass\n",
    "    @abstractmethod\n",
    "    def another_expression_function(self, collaborator: AbstractMotion) -> None:\n",
    "        pass"
   ]
  },
  {
   "cell_type": "markdown",
   "id": "c6ec7025",
   "metadata": {},
   "source": [
    "##### Concrete Product class 'Greet' "
   ]
  },
  {
   "cell_type": "code",
   "execution_count": null,
   "id": "fa2901d9",
   "metadata": {},
   "outputs": [],
   "source": [
    "class Greet(AbstractExpression):\n",
    "    def expression_function(self) -> str:\n",
    "        print(\"Greeted\")\n",
    "#         robot = anki_vector.Robot()\n",
    "#         robot.connect()\n",
    "#         robot.anim.play_animation_trigger(\"GreetAfterLongTime\")\n",
    "        return \"Here at Greet\"\n",
    "    def another_expression_function(self, collaborator: AbstractMotion) -> str:\n",
    "        result = collaborator.motion_function()\n",
    "        return f\"The result of Greet collaborating with the ({result})\"\n",
    "        "
   ]
  },
  {
   "cell_type": "markdown",
   "id": "2c8d1d6a",
   "metadata": {},
   "source": [
    "##### Concrete Product class 'LookAround' "
   ]
  },
  {
   "cell_type": "code",
   "execution_count": null,
   "id": "11e09cd6",
   "metadata": {},
   "outputs": [],
   "source": [
    "class LookAround(AbstractExpression):\n",
    "    def expression_function(self) -> str:\n",
    "        print(\"Looked Around\")\n",
    "#         robot = anki_vector.Robot()\n",
    "#         robot.connect()\n",
    "#         robot.behavior.look_around_in_place()\n",
    "        return \"Here at LookAround\"\n",
    "    def another_expression_function(self, collaborator: AbstractMotion) -> str:\n",
    "        result = collaborator.motion_function()\n",
    "        return f\"The result of LookAround collaborating with the ({result})\"\n",
    "        "
   ]
  },
  {
   "cell_type": "markdown",
   "id": "addfd513",
   "metadata": {},
   "source": [
    "##### Client Implementation"
   ]
  },
  {
   "cell_type": "code",
   "execution_count": null,
   "id": "2b2e6e31",
   "metadata": {},
   "outputs": [],
   "source": [
    "def client_implementation(factory: GreetingFactory) -> None:\n",
    "    product_motion = factory.create_product_motion()\n",
    "    product_expression = factory.create_product_expression()"
   ]
  },
  {
   "cell_type": "code",
   "execution_count": null,
   "id": "d806f765",
   "metadata": {},
   "outputs": [],
   "source": [
    "client_implementation(HelloFactory())"
   ]
  },
  {
   "cell_type": "code",
   "execution_count": null,
   "id": "0dd6f11d",
   "metadata": {},
   "outputs": [],
   "source": [
    "client_implementation(GoodByeFactory())"
   ]
  },
  {
   "cell_type": "code",
   "execution_count": null,
   "id": "c1cf0566",
   "metadata": {},
   "outputs": [],
   "source": [
    "# robot.disconnect()"
   ]
  },
  {
   "cell_type": "code",
   "execution_count": null,
   "id": "b77ddb8f",
   "metadata": {},
   "outputs": [],
   "source": [
    "from __future__ import annotations\n",
    "from abc import ABC, abstractmethod\n"
   ]
  },
  {
   "cell_type": "markdown",
   "id": "7ae117a8",
   "metadata": {},
   "source": [
    "#####   The Abstract Factory interface declares a set of methods that return different abstract products. These products are called a family and related by a high-level theme or concept. Products of one family are usually able to collaborate among themselves. A family of products may have several variants, but the products of one variant are incompatible with products of another."
   ]
  },
  {
   "cell_type": "code",
   "execution_count": 44,
   "id": "3669c4de",
   "metadata": {},
   "outputs": [],
   "source": [
    "class AbstractFactory(ABC):\n",
    "    @abstractmethod\n",
    "    def create_product_a(self) -> AbstractProductA:\n",
    "        pass\n",
    "\n",
    "    @abstractmethod\n",
    "    def create_product_b(self) -> AbstractProductB:\n",
    "        pass"
   ]
  },
  {
   "cell_type": "markdown",
   "id": "b0c8b8f9",
   "metadata": {},
   "source": [
    "##### Concrete Factories produce a family of products that belong to a single variant. The factory guarantees that resulting products are compatible. Note that signatures of the Concrete Factory's methods return an abstract product, while inside the method a concrete product is instantiated."
   ]
  },
  {
   "cell_type": "code",
   "execution_count": 45,
   "id": "a31f300d",
   "metadata": {},
   "outputs": [],
   "source": [
    "class ConcreteFactory1(AbstractFactory):\n",
    "    def create_product_a(self) -> AbstractProductA:\n",
    "        return ConcreteProductA1()\n",
    "\n",
    "    def create_product_b(self) -> AbstractProductB:\n",
    "        return ConcreteProductB1()"
   ]
  },
  {
   "cell_type": "markdown",
   "id": "2426b647",
   "metadata": {},
   "source": [
    "##### Each Concrete Factory has a corresponding product variant."
   ]
  },
  {
   "cell_type": "code",
   "execution_count": 46,
   "id": "993102b8",
   "metadata": {},
   "outputs": [],
   "source": [
    "class ConcreteFactory2(AbstractFactory):\n",
    "    def create_product_a(self) -> AbstractProductA:\n",
    "        return ConcreteProductA2()\n",
    "\n",
    "    def create_product_b(self) -> AbstractProductB:\n",
    "        return ConcreteProductB2()"
   ]
  },
  {
   "cell_type": "markdown",
   "id": "e5eacec6",
   "metadata": {},
   "source": [
    "#####  Each distinct product of a product family should have a base interface. All variants of the product must implement this interface."
   ]
  },
  {
   "cell_type": "code",
   "execution_count": 47,
   "id": "0a118df6",
   "metadata": {},
   "outputs": [],
   "source": [
    "class AbstractProductA(ABC):\n",
    "    @abstractmethod\n",
    "    def useful_function_a(self) -> str:\n",
    "        pass"
   ]
  },
  {
   "cell_type": "markdown",
   "id": "2109aebf",
   "metadata": {},
   "source": [
    "##### Concrete Products are created by corresponding Concrete Factories."
   ]
  },
  {
   "cell_type": "code",
   "execution_count": 48,
   "id": "171b0892",
   "metadata": {},
   "outputs": [],
   "source": [
    "class ConcreteProductA1(AbstractProductA):\n",
    "    def useful_function_a(self) -> str:\n",
    "        robot = anki_vector.Robot()\n",
    "        robot.connect()\n",
    "        robot.behavior.drive_off_charger()\n",
    "        return \"The result of the product A1.\""
   ]
  },
  {
   "cell_type": "code",
   "execution_count": 49,
   "id": "1120a196",
   "metadata": {},
   "outputs": [],
   "source": [
    "class ConcreteProductA2(AbstractProductA):\n",
    "    def useful_function_a(self) -> str:\n",
    "        robot = anki_vector.Robot()\n",
    "        robot.connect()\n",
    "        robot.behavior.drive_on_charger()\n",
    "        return \"The result of the product A2.\""
   ]
  },
  {
   "cell_type": "markdown",
   "id": "31f69a5f",
   "metadata": {},
   "source": [
    "##### Here's the the base interface of another product. All products can interact with each other, but proper interaction is possible only between products of the same concrete variant."
   ]
  },
  {
   "cell_type": "code",
   "execution_count": 50,
   "id": "7f3a29b5",
   "metadata": {},
   "outputs": [],
   "source": [
    "class AbstractProductB(ABC):\n",
    "    @abstractmethod\n",
    "    def useful_function_b(self) -> None:\n",
    "        \"\"\"\n",
    "        Product B is able to do its own thing...\n",
    "        \"\"\"\n",
    "        pass\n",
    "    @abstractmethod\n",
    "    def another_useful_function_b(self, collaborator: AbstractProductA) -> None:\n",
    "        \"\"\"\n",
    "        ...but it also can collaborate with the ProductA.\n",
    "\n",
    "        The Abstract Factory makes sure that all products it creates are of the\n",
    "        same variant and thus, compatible.\n",
    "        \"\"\"\n",
    "        pass"
   ]
  },
  {
   "cell_type": "markdown",
   "id": "190f2641",
   "metadata": {},
   "source": [
    "##### Concrete Products are created by corresponding Concrete Factories."
   ]
  },
  {
   "cell_type": "code",
   "execution_count": 51,
   "id": "b622caf5",
   "metadata": {},
   "outputs": [],
   "source": [
    "class ConcreteProductB1(AbstractProductB):\n",
    "    def useful_function_b(self) -> str:\n",
    "        robot = anki_vector.Robot()\n",
    "        robot.connect()\n",
    "        robot.anim.play_animation_trigger(\"GreetAfterLongTime\")\n",
    "        return \"The result of the product B1.\"\n",
    "\n",
    "    \"\"\"\n",
    "    The variant, Product B1, is only able to work correctly with the variant,\n",
    "    Product A1. Nevertheless, it accepts any instance of AbstractProductA as an\n",
    "    argument.\n",
    "    \"\"\"\n",
    "\n",
    "    def another_useful_function_b(self, collaborator: AbstractProductA) -> str:\n",
    "        result = collaborator.useful_function_a()\n",
    "        return f\"The result of the B1 collaborating with the ({result})\""
   ]
  },
  {
   "cell_type": "code",
   "execution_count": 52,
   "id": "79d5043f",
   "metadata": {},
   "outputs": [],
   "source": [
    "class ConcreteProductB2(AbstractProductB):\n",
    "    def useful_function_b(self) -> str:\n",
    "        robot = anki_vector.Robot()\n",
    "        robot.connect()\n",
    "        robot.behavior.look_around_in_place()\n",
    "        return \"The result of the product B2.\"\n",
    "\n",
    "    def another_useful_function_b(self, collaborator: AbstractProductA):\n",
    "        \"\"\"\n",
    "        The variant, Product B2, is only able to work correctly with the\n",
    "        variant, Product A2. Nevertheless, it accepts any instance of\n",
    "        AbstractProductA as an argument.\n",
    "        \"\"\"\n",
    "        result = collaborator.useful_function_a()\n",
    "        return f\"The result of the B2 collaborating with the ({result})\""
   ]
  },
  {
   "cell_type": "code",
   "execution_count": 53,
   "id": "4c6dd7b4",
   "metadata": {},
   "outputs": [],
   "source": [
    "def client_code(factory: AbstractFactory) -> None:\n",
    "    \"\"\"\n",
    "    The client code works with factories and products only through abstract\n",
    "    types: AbstractFactory and AbstractProduct. This lets you pass any factory\n",
    "    or product subclass to the client code without breaking it.\n",
    "    \"\"\"\n",
    "    product_a = factory.create_product_a()\n",
    "    product_b = factory.create_product_b()\n",
    "\n",
    "    print(f\"{product_b.useful_function_b()}\")\n",
    "    print(f\"{product_b.another_useful_function_b(product_a)}\", end=\"\")"
   ]
  },
  {
   "cell_type": "code",
   "execution_count": 54,
   "id": "c398736c",
   "metadata": {},
   "outputs": [
    {
     "name": "stderr",
     "output_type": "stream",
     "text": [
      "23:07:34.919               robot.Robot WARNING  No serial number or name provided. Automatically selecting 00705fa6\n",
      "23:07:34.924     connection.Connection    INFO  Connecting to 192.168.1.20:443 for Vector-R1R9 using /home/ss-root/.anki_vector/Vector-R1R9-00705fa6.cert\n"
     ]
    },
    {
     "name": "stdout",
     "output_type": "stream",
     "text": [
      "Client: Testing client code with the first factory type:\n"
     ]
    },
    {
     "name": "stderr",
     "output_type": "stream",
     "text": [
      "23:07:41.153     connection.Connection    INFO  BehaviorControl control_granted_response { }\n",
      "23:07:47.393               robot.Robot WARNING  No serial number or name provided. Automatically selecting 00705fa6\n",
      "23:07:47.395     connection.Connection    INFO  Connecting to 192.168.1.20:443 for Vector-R1R9 using /home/ss-root/.anki_vector/Vector-R1R9-00705fa6.cert\n"
     ]
    },
    {
     "name": "stdout",
     "output_type": "stream",
     "text": [
      "The result of the product B1.\n"
     ]
    },
    {
     "name": "stderr",
     "output_type": "stream",
     "text": [
      "23:07:47.812     connection.Connection    INFO  BehaviorControl control_granted_response { }\n",
      "23:08:03.783               robot.Robot WARNING  No serial number or name provided. Automatically selecting 00705fa6\n",
      "23:08:03.788     connection.Connection    INFO  Connecting to 192.168.1.20:443 for Vector-R1R9 using /home/ss-root/.anki_vector/Vector-R1R9-00705fa6.cert\n"
     ]
    },
    {
     "name": "stdout",
     "output_type": "stream",
     "text": [
      "The result of the B1 collaborating with the (The result of the product A1.)\n",
      "\n",
      "Client: Testing the same client code with the second factory type:\n"
     ]
    },
    {
     "name": "stderr",
     "output_type": "stream",
     "text": [
      "23:08:04.127     connection.Connection    INFO  BehaviorControl control_granted_response { }\n",
      "23:08:08.468               robot.Robot WARNING  No serial number or name provided. Automatically selecting 00705fa6\n",
      "23:08:08.470     connection.Connection    INFO  Connecting to 192.168.1.20:443 for Vector-R1R9 using /home/ss-root/.anki_vector/Vector-R1R9-00705fa6.cert\n"
     ]
    },
    {
     "name": "stdout",
     "output_type": "stream",
     "text": [
      "The result of the product B2.\n"
     ]
    },
    {
     "name": "stderr",
     "output_type": "stream",
     "text": [
      "23:08:08.809     connection.Connection    INFO  BehaviorControl control_granted_response { }\n"
     ]
    },
    {
     "name": "stdout",
     "output_type": "stream",
     "text": [
      "The result of the B2 collaborating with the (The result of the product A2.)"
     ]
    }
   ],
   "source": [
    "if __name__ == \"__main__\":\n",
    "    \"\"\"\n",
    "    The client code can work with any concrete factory class.\n",
    "    \"\"\"\n",
    "    print(\"Client: Testing client code with the first factory type:\")\n",
    "    client_code(ConcreteFactory1())\n",
    "\n",
    "    print(\"\\n\")\n",
    "\n",
    "    print(\"Client: Testing the same client code with the second factory type:\")\n",
    "    client_code(ConcreteFactory2())"
   ]
  },
  {
   "cell_type": "code",
   "execution_count": null,
   "id": "f96c1728",
   "metadata": {},
   "outputs": [],
   "source": []
  }
 ],
 "metadata": {
  "kernelspec": {
   "display_name": "Python 3 (ipykernel)",
   "language": "python",
   "name": "python3"
  },
  "language_info": {
   "codemirror_mode": {
    "name": "ipython",
    "version": 3
   },
   "file_extension": ".py",
   "mimetype": "text/x-python",
   "name": "python",
   "nbconvert_exporter": "python",
   "pygments_lexer": "ipython3",
   "version": "3.8.13"
  }
 },
 "nbformat": 4,
 "nbformat_minor": 5
}
